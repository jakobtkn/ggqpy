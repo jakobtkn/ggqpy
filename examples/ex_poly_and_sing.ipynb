{
 "cells": [
  {
   "cell_type": "code",
   "execution_count": null,
   "metadata": {},
   "outputs": [],
   "source": [
    "import numpy as np\n",
    "import sympy as sym\n",
    "import matplotlib.pyplot as plt"
   ]
  },
  {
   "cell_type": "code",
   "execution_count": null,
   "metadata": {},
   "outputs": [],
   "source": [
    "import sys\n",
    "sys.path.append(\"..\")\n",
    "\n",
    "from ggqpy import construct_Chebyshev_quadratures\n",
    "from ggqpy.functionfamiliy import Interval, FunctionFamily\n",
    "from ggqpy.testproblems import example_problem, gen_poly_and_sing\n",
    "from ggqpy.discretize import Discretizer\n",
    "from ggqpy.compress import compress_sequence_of_functions, visualise_diagonal_dropoff, construct_A_matrix, interp_legendre\n",
    "from ggqpy.optimize import QuadOptimizer\n",
    "from ggqpy.visualize import plot_points"
   ]
  },
  {
   "cell_type": "code",
   "execution_count": null,
   "metadata": {},
   "outputs": [],
   "source": [
    "x,w = np.polynomial.legendre.leggauss(10)\n",
    "plt.stem(x,w)\n",
    "f = lambda x: x**19 + 1\n",
    "f(x)@w"
   ]
  },
  {
   "cell_type": "code",
   "execution_count": null,
   "metadata": {},
   "outputs": [],
   "source": [
    "eps_disc = 1e-10\n",
    "eps_comp = 1e2*eps_disc\n",
    "eps_quad = 1e-10\n",
    "I = Interval(1e-9,1)\n",
    "seed = 0"
   ]
  },
  {
   "cell_type": "code",
   "execution_count": null,
   "metadata": {},
   "outputs": [],
   "source": [
    "rng_gen = np.random.default_rng(seed)\n",
    "F = example_problem(I, number_of_functions = 100, expr_gen=gen_poly_and_sing)\n",
    "ex_f, ex_f_expr = F.generate_example_function()"
   ]
  },
  {
   "cell_type": "code",
   "execution_count": null,
   "metadata": {},
   "outputs": [],
   "source": [
    "print(\"Example function from function space\")\n",
    "display(ex_f_expr)\n",
    "xx = np.linspace(I.a,I.b,1000)\n",
    "functions_to_plot = 5\n",
    "plt.subplot(1, 2, 1)\n",
    "plt.title(\"Example functions\")\n",
    "plt.plot(xx,ex_f(xx))\n",
    "plt.subplot(1, 2, 2);\n",
    "xx2 = np.linspace((I.a + I.b)/4,I.b,1000)\n",
    "plt.plot(xx2,ex_f(xx2));"
   ]
  },
  {
   "cell_type": "markdown",
   "metadata": {},
   "source": [
    "Discretization and compression"
   ]
  },
  {
   "cell_type": "code",
   "execution_count": null,
   "metadata": {},
   "outputs": [],
   "source": [
    "disc = Discretizer(eps_disc,min_length=1e-7, interpolation_degree=15)\n",
    "x_disc, w_disc, endpoints, intervals = disc.adaptive_discretization(F)\n",
    "U_disc, rank = compress_sequence_of_functions(F.functions, x_disc, w_disc, eps_comp)\n",
    "u_family = interp_legendre(U_disc, endpoints)"
   ]
  },
  {
   "cell_type": "code",
   "execution_count": null,
   "metadata": {},
   "outputs": [],
   "source": [
    "print(\"Functions before compression:\", len(F.functions))\n",
    "print(\"Functions after compression:\", u_family.number_of_functions)\n",
    "A = construct_A_matrix(x_disc,w_disc,F.functions)\n",
    "visualise_diagonal_dropoff(A, eps_comp)"
   ]
  },
  {
   "cell_type": "markdown",
   "metadata": {},
   "source": [
    "Chebyshev Rule"
   ]
  },
  {
   "cell_type": "code",
   "execution_count": null,
   "metadata": {},
   "outputs": [],
   "source": [
    "(x_cheb,), w_cheb = construct_Chebyshev_quadratures((x_disc,),w_disc,U_disc)"
   ]
  },
  {
   "cell_type": "code",
   "execution_count": null,
   "metadata": {},
   "outputs": [],
   "source": [
    "print(\"Number of points in original discretization:\", len(x_disc))\n",
    "print(\"Number of points in Chebyshev rule:\", len(x_cheb))\n",
    "print(\"Absolute integral error for chebyshev:\", abs(F.target_integral(ex_f_expr)-ex_f(x_cheb)@w_cheb))"
   ]
  },
  {
   "cell_type": "markdown",
   "metadata": {},
   "source": [
    "Nonlinear optimization"
   ]
  },
  {
   "cell_type": "code",
   "execution_count": null,
   "metadata": {},
   "outputs": [],
   "source": [
    "r = U_disc.T@w_disc"
   ]
  },
  {
   "cell_type": "code",
   "execution_count": null,
   "metadata": {},
   "outputs": [],
   "source": [
    "opt = QuadOptimizer(u_family,r, ftol=1e-15,verbose=False)\n",
    "x,w = opt.point_reduction(x_cheb, w_cheb, eps_quad)"
   ]
  },
  {
   "cell_type": "code",
   "execution_count": null,
   "metadata": {},
   "outputs": [],
   "source": [
    "print(\"Quadrature length: \", len(x))\n",
    "print(\"Absolute error:\", abs(F.target_integral(ex_f_expr)-ex_f(x)@w))"
   ]
  },
  {
   "cell_type": "markdown",
   "metadata": {},
   "source": [
    "Comparison with Gauss-Legendre"
   ]
  },
  {
   "cell_type": "code",
   "execution_count": null,
   "metadata": {},
   "outputs": [],
   "source": [
    "fig, ax = plt.subplots()\n",
    "x_gl,w_gl = np.polynomial.legendre.leggauss(len(x))\n",
    "w_gl = w_gl*0.5*I.length()\n",
    "x_gl = I.translate(x_gl)\n",
    "ax.axhline(y=0, c=\"orange\")\n",
    "ax.stem(x_gl, w_gl, markerfmt = 'bo', basefmt=\"orange\", label=r\"Gauss-Legendre nodes\")\n",
    "ax.stem(x, w, markerfmt = 'go', basefmt=\"orange\", label=r\"New quadrature nodes\")\n",
    "ax.legend()\n",
    "print(\"Gauss-Legendre\",np.around(x_gl,3))\n",
    "print(\"New quadrature\",np.around(sorted(x),3))"
   ]
  },
  {
   "cell_type": "code",
   "execution_count": null,
   "metadata": {},
   "outputs": [],
   "source": [
    "symx = sym.Symbol(\"x\",real=True)\n",
    "expr = symx**2\n",
    "display(expr)\n",
    "f = sym.lambdify(symx, expr, \"numpy\")\n",
    "print(\"Gauss-Legendre error\", abs(F.target_integral(expr) - f(x_gl)@w_gl))\n",
    "print(\"New quadrature error\", abs(F.target_integral(expr) - f(x)@w))\n"
   ]
  },
  {
   "cell_type": "code",
   "execution_count": null,
   "metadata": {},
   "outputs": [],
   "source": [
    "expr = 1/symx + symx**2\n",
    "display(expr)\n",
    "f = sym.lambdify(symx, expr, \"numpy\")\n",
    "print(\"Gauss-Legendre error\", abs(F.target_integral(expr) - f(x_gl)@w_gl))\n",
    "print(\"New quadrature error\", abs(F.target_integral(expr) - f(x)@w))"
   ]
  }
 ],
 "metadata": {
  "kernelspec": {
   "display_name": "Python 3",
   "language": "python",
   "name": "python3"
  },
  "language_info": {
   "codemirror_mode": {
    "name": "ipython",
    "version": 3
   },
   "file_extension": ".py",
   "mimetype": "text/x-python",
   "name": "python",
   "nbconvert_exporter": "python",
   "pygments_lexer": "ipython3",
   "version": "3.10.12"
  }
 },
 "nbformat": 4,
 "nbformat_minor": 2
}
