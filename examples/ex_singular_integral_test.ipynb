{
 "cells": [
  {
   "cell_type": "code",
   "execution_count": null,
   "metadata": {},
   "outputs": [],
   "source": [
    "import numpy as np\n",
    "import matplotlib.pyplot as plt\n",
    "plt.rcParams['text.usetex'] = True"
   ]
  },
  {
   "cell_type": "code",
   "execution_count": null,
   "metadata": {},
   "outputs": [],
   "source": [
    "import sys\n",
    "sys.path.append(\"..\")\n",
    "\n",
    "from ggqpy import construct_Chebyshev_quadratures\n",
    "from ggqpy.functionfamiliy import Interval, FunctionFamily\n",
    "from ggqpy.testproblems import example_problem, gen_poly_and_sing\n",
    "from ggqpy.discretize import Discretizer\n",
    "from ggqpy.compress import compress_sequence_of_functions, visualise_diagonal_dropoff, construct_A_matrix, interp_legendre\n",
    "from ggqpy.optimize import QuadOptimizer\n",
    "from ggqpy.visualize import plot_points"
   ]
  },
  {
   "cell_type": "code",
   "execution_count": null,
   "metadata": {},
   "outputs": [],
   "source": [
    "gamma = (\n",
    "    lambda r0, theta0, u: r0\n",
    "    * np.sin(theta0)\n",
    "    / (r0 * np.sin(theta0 - theta0 * u) + np.sin(theta0 * u))\n",
    ")\n",
    "number_of_parameters = 16\n",
    "\n",
    "x_gl, _ = np.polynomial.legendre.leggauss(number_of_parameters)\n",
    "\n",
    "(amin, amax) = (1e-7, 1)\n",
    "alphas = (amax - amin) * (x_gl + 1) / 2 + amin\n",
    "\n",
    "(bmin, bmax) = (1e-7, np.pi)\n",
    "betas = (bmax - bmin) * (x_gl + 1) / 2 + bmin\n",
    "\n",
    "n = 2\n",
    "functions_cos = [\n",
    "    lambda u, alpha=alpha, beta=beta: beta\n",
    "    * gamma(alpha, beta, u) ** (i + 2)\n",
    "    / (i + 2)\n",
    "    * np.cos(j * beta * u)\n",
    "    for i in range(-1, n + 1)\n",
    "    for j in range(0, 3 * (i + 1) + 2 + 1)\n",
    "    for alpha in alphas\n",
    "    for beta in betas\n",
    "]\n",
    "functions_sin = [\n",
    "    lambda u, alpha=alpha, beta=beta: beta\n",
    "    * gamma(alpha, beta, u) ** (i + 2)\n",
    "    / (i + 2)\n",
    "    * np.sin(j * beta * u)\n",
    "    for i in range(-1, n + 1)\n",
    "    for j in range(0, 3 * (i + 1) + 2 + 1)\n",
    "    for alpha in alphas\n",
    "    for beta in betas\n",
    "]\n",
    "\n",
    "functions = functions_cos + functions_sin\n",
    "\n",
    "F = FunctionFamily(\n",
    "    Interval(0, 1), None, functions\n",
    ")\n",
    "print(len(functions))"
   ]
  },
  {
   "cell_type": "code",
   "execution_count": null,
   "metadata": {},
   "outputs": [],
   "source": [
    "interpolation_degree=10\n",
    "eps_disc = 1e-10\n",
    "eps_comp = 1e2*eps_disc\n",
    "eps_quad = 1e-8\n",
    "disc = Discretizer(precision=eps_disc, min_length=1e-1, interpolation_degree=interpolation_degree, verbose=False)\n",
    "x_disc, w_disc, endpoints, intervals = disc.adaptive_discretization(F)"
   ]
  },
  {
   "cell_type": "code",
   "execution_count": null,
   "metadata": {},
   "outputs": [],
   "source": [
    "xx = np.linspace(0,1,1000)\n",
    "plt.plot(xx,functions[100](xx))"
   ]
  },
  {
   "cell_type": "code",
   "execution_count": null,
   "metadata": {},
   "outputs": [],
   "source": [
    "A = construct_A_matrix(x_disc,w_disc,F.functions)\n",
    "visualise_diagonal_dropoff(A, eps_comp)"
   ]
  },
  {
   "cell_type": "code",
   "execution_count": null,
   "metadata": {},
   "outputs": [],
   "source": [
    "U_disc, rank = compress_sequence_of_functions(F.functions, x_disc, w_disc, eps_comp)"
   ]
  },
  {
   "cell_type": "code",
   "execution_count": null,
   "metadata": {},
   "outputs": [],
   "source": [
    "(x_cheb,),w_cheb = construct_Chebyshev_quadratures((x_disc,),w_disc,U_disc)"
   ]
  },
  {
   "cell_type": "code",
   "execution_count": null,
   "metadata": {},
   "outputs": [],
   "source": [
    "print(x_cheb)"
   ]
  },
  {
   "cell_type": "code",
   "execution_count": null,
   "metadata": {},
   "outputs": [],
   "source": [
    "u_list = interp_legendre(U_disc, endpoints)\n",
    "r = U_disc.T@w_disc\n",
    "opt = QuadOptimizer(u_list,r)\n",
    "x,w = opt.point_reduction(x_cheb, w_cheb, eps_quad)"
   ]
  },
  {
   "cell_type": "code",
   "execution_count": null,
   "metadata": {},
   "outputs": [],
   "source": [
    "f = functions[1]\n",
    "err = [abs(f(x_disc)@w_disc - f(x)@w) for f in functions]\n",
    "plt.semilogy(sorted(err))"
   ]
  },
  {
   "cell_type": "code",
   "execution_count": null,
   "metadata": {},
   "outputs": [],
   "source": [
    "print(w)"
   ]
  }
 ],
 "metadata": {
  "kernelspec": {
   "display_name": "Python 3",
   "language": "python",
   "name": "python3"
  },
  "language_info": {
   "codemirror_mode": {
    "name": "ipython",
    "version": 3
   },
   "file_extension": ".py",
   "mimetype": "text/x-python",
   "name": "python",
   "nbconvert_exporter": "python",
   "pygments_lexer": "ipython3",
   "version": "3.10.12"
  }
 },
 "nbformat": 4,
 "nbformat_minor": 2
}
