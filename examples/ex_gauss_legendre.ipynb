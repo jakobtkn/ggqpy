{
 "cells": [
  {
   "cell_type": "code",
   "execution_count": null,
   "metadata": {},
   "outputs": [],
   "source": [
    "import numpy as np\n",
    "import scipy as sp\n",
    "from sympy import Symbol, Poly\n",
    "import matplotlib.pyplot as plt\n",
    "import resource\n",
    "from IPython.display import display"
   ]
  },
  {
   "cell_type": "code",
   "execution_count": null,
   "metadata": {},
   "outputs": [],
   "source": [
    "import sys\n",
    "sys.path.append(\"..\")\n",
    "\n",
    "from ggqpy import construct_Chebyshev_quadratures\n",
    "from ggqpy.utils import Interval, FunctionFamily\n",
    "from ggqpy.testproblems import example_problem, gen_poly_and_sing\n",
    "from ggqpy.discretize import Discretizer, compress_sequence_of_functions, construct_A_matrix\n",
    "from ggqpy.optimize import QuadOptimizer\n",
    "from ggqpy.visualize import plot_points, visualise_diagonal_dropoff"
   ]
  },
  {
   "cell_type": "code",
   "execution_count": null,
   "metadata": {},
   "outputs": [],
   "source": [
    "eps_disc = 1e-10\n",
    "eps_comp = 1e2*eps_disc\n",
    "I = Interval(-1,1)\n",
    "seed = 0\n",
    "\n",
    "x = Symbol(\"x\", real = True)\n",
    "F = FunctionFamily(I, [1 + 1e-100*x] + [x**k for k in range(1,30)])\n",
    "ex_f, ex_f_expr = F.generate_example_function()"
   ]
  },
  {
   "cell_type": "code",
   "execution_count": null,
   "metadata": {},
   "outputs": [],
   "source": [
    "number_of_points = 100\n",
    "disc = Discretizer(eps_disc, min_length=1e-4, interpolation_degree=number_of_points) \n",
    "x_disc, w_disc, endpoints, intervals = disc.adaptive_discretization(F)"
   ]
  },
  {
   "cell_type": "code",
   "execution_count": null,
   "metadata": {},
   "outputs": [],
   "source": [
    "U_disc, rank = compress_sequence_of_functions(F.functions,(x_disc,), w_disc, eps_comp)\n",
    "u_list = disc.interpolate_piecewise_legendre(U_disc)"
   ]
  },
  {
   "cell_type": "code",
   "execution_count": null,
   "metadata": {},
   "outputs": [],
   "source": [
    "(x_cheb,),w_cheb = construct_Chebyshev_quadratures((x_disc,),w_disc,U_disc)\n",
    "plt.stem(x_cheb,w_cheb)\n",
    "\n",
    "x_gl,w_gl = np.polynomial.legendre.leggauss(10)\n",
    "# plt.stem(x_gl,w_gl,markerfmt=\"r\")\n",
    "x_cheb**2@w_cheb"
   ]
  },
  {
   "cell_type": "code",
   "execution_count": null,
   "metadata": {},
   "outputs": [],
   "source": [
    "r = U_disc.T@w_disc\n",
    "eps_quad = 0.1\n",
    "opt = QuadOptimizer(u_list,r)\n",
    "x,w = opt.reduce_quadrature(x_cheb,w_cheb,eps_quad)"
   ]
  },
  {
   "cell_type": "code",
   "execution_count": null,
   "metadata": {},
   "outputs": [],
   "source": [
    "x_gl,w_gl = np.polynomial.legendre.leggauss(len(x))\n",
    "plt.stem(x_gl,w_gl,markerfmt=\"r\")\n",
    "plt.stem(x,w)\n",
    "print(x_gl-sorted(x))\n",
    "w.sum()"
   ]
  }
 ],
 "metadata": {
  "kernelspec": {
   "display_name": "Python 3",
   "language": "python",
   "name": "python3"
  },
  "language_info": {
   "codemirror_mode": {
    "name": "ipython",
    "version": 3
   },
   "file_extension": ".py",
   "mimetype": "text/x-python",
   "name": "python",
   "nbconvert_exporter": "python",
   "pygments_lexer": "ipython3",
   "version": "3.12.2"
  }
 },
 "nbformat": 4,
 "nbformat_minor": 2
}
