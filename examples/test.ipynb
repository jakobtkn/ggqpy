{
 "cells": [
  {
   "cell_type": "code",
   "execution_count": 1,
   "metadata": {},
   "outputs": [],
   "source": [
    "import numpy as np\n",
    "import scipy as sp\n",
    "import matplotlib.pyplot as plt\n",
    "from dataclasses import astuple\n"
   ]
  },
  {
   "cell_type": "code",
   "execution_count": 2,
   "metadata": {},
   "outputs": [
    {
     "name": "stdout",
     "output_type": "stream",
     "text": [
      "[[ 1.+0.j -0.-0.j  0.+0.j]\n",
      " [-0.+0.j  1.+0.j  0.-0.j]\n",
      " [ 0.-0.j  0.+0.j  1.+0.j]]\n",
      "[1.08213432+0.00000000e+00j 1.11690721-1.11022302e-16j\n",
      " 0.36091326-1.38777878e-17j]\n"
     ]
    }
   ],
   "source": [
    "N = 3\n",
    "a = np.random.normal(size=(3,3))\n",
    "b = np.random.normal(size=(3,3))\n",
    "A = a + 1j*b\n",
    "rhs = np.random.normal(size=3)\n",
    "\n",
    "Q,R = sp.linalg.qr(A)\n",
    "sp.linalg.norm(Q@R-A)\n",
    "\n",
    "x1 = np.linalg.solve(Q,rhs)\n",
    "\n",
    "\n",
    "\n",
    "# print(x1)\n",
    "\n",
    "# print(Q@Q.T.conj())\n",
    "U = np.diag((x1*abs(x1)**(-1)))\n",
    "Q2 = Q@U\n",
    "print(np.around(Q2@Q2.T.conj(),1))\n",
    "x2 = np.linalg.solve(Q2,rhs)\n",
    "print(x2)"
   ]
  },
  {
   "cell_type": "code",
   "execution_count": 19,
   "metadata": {},
   "outputs": [],
   "source": [
    "def sherman_morrison(Ainv,u,v):\n",
    "    ''' finds (A + uv^T)^-1 using a rank-1 update'''\n",
    "    assert Ainv.flags['F_CONTIGUOUS']\n",
    "    Ainvu = Ainv @ u\n",
    "    alpha = -1 / (1 + v.T @ Ainvu)\n",
    "    sp.linalg.blas.dger(alpha, Ainvu, v.T @ Ainv, a=Ainv, overwrite_a=1)\n"
   ]
  },
  {
   "cell_type": "code",
   "execution_count": 20,
   "metadata": {},
   "outputs": [
    {
     "name": "stdout",
     "output_type": "stream",
     "text": [
      "  C_CONTIGUOUS : False\n",
      "  F_CONTIGUOUS : True\n",
      "  OWNDATA : True\n",
      "  WRITEABLE : True\n",
      "  ALIGNED : True\n",
      "  WRITEBACKIFCOPY : False\n",
      "\n"
     ]
    }
   ],
   "source": [
    "import numpy as np\n",
    "A = np.random.normal(size=(3,3))\n",
    "A = np.asfortranarray(A)\n",
    "print(A.flags)\n",
    "u = np.random.normal(size=(3,))\n",
    "v = np.random.normal(size=(3,))"
   ]
  },
  {
   "cell_type": "code",
   "execution_count": 40,
   "metadata": {},
   "outputs": [
    {
     "name": "stdout",
     "output_type": "stream",
     "text": [
      "[3 4 1 0 2]\n"
     ]
    }
   ],
   "source": [
    "eta = np.array([0.1,0.2,0.01,100,1])\n",
    "idx = np.argsort(eta)\n",
    "idx = np.flip(idx)\n",
    "print(idx)"
   ]
  },
  {
   "cell_type": "code",
   "execution_count": 37,
   "metadata": {},
   "outputs": [
    {
     "name": "stdout",
     "output_type": "stream",
     "text": [
      "  C_CONTIGUOUS : False\n",
      "  F_CONTIGUOUS : True\n",
      "  OWNDATA : True\n",
      "  WRITEABLE : True\n",
      "  ALIGNED : True\n",
      "  WRITEBACKIFCOPY : False\n",
      "\n"
     ]
    }
   ],
   "source": [
    "A = np.asfortranarray(np.ones(shape=(4,4)))\n",
    "B = A\n",
    "print(B.flags)"
   ]
  },
  {
   "cell_type": "code",
   "execution_count": 34,
   "metadata": {},
   "outputs": [
    {
     "name": "stdout",
     "output_type": "stream",
     "text": [
      "[[-1.2950566  -5.75988655 -7.49836786]\n",
      " [ 0.03193483  0.54472349 -0.77721822]\n",
      " [ 0.08075092  3.1853387   4.65612454]]\n",
      "[[-1.2950566  -5.75988655 -7.49836786]\n",
      " [ 0.03193483  0.54472349 -0.77721822]\n",
      " [ 0.08075092  3.1853387   4.65612454]]\n"
     ]
    }
   ],
   "source": [
    "print(np.linalg.inv(A+np.outer(u,v)))\n",
    "B = np.asfortranarray(np.linalg.inv(A))\n",
    "sherman_morrison(B,u,v)\n",
    "print(B)"
   ]
  },
  {
   "cell_type": "code",
   "execution_count": 29,
   "metadata": {},
   "outputs": [
    {
     "name": "stdout",
     "output_type": "stream",
     "text": [
      "[[-1.34990713 -0.47592627 -1.52002989]\n",
      " [ 0.81244405  0.88775272  0.25058853]\n",
      " [-1.59682167 -0.51267754  0.02547754]]\n",
      "[[-1.34990713 -0.47592627 -1.52002989]\n",
      " [ 0.81244405  0.88775272  0.25058853]\n",
      " [-1.59682167 -0.51267754  0.02547754]]\n"
     ]
    }
   ],
   "source": [
    "A = np.random.normal(size=(3,3))\n",
    "B = np.asfortranarray(A)\n",
    "print(A)\n",
    "print(B)"
   ]
  },
  {
   "cell_type": "code",
   "execution_count": null,
   "metadata": {},
   "outputs": [
    {
     "data": {
      "text/plain": [
       "(-0.02957846326764082+0.1894598535170757j)"
      ]
     },
     "execution_count": 35,
     "metadata": {},
     "output_type": "execute_result"
    }
   ],
   "source": [
    "sp.special.sph_harm(30,131,1,1)"
   ]
  },
  {
   "cell_type": "code",
   "execution_count": null,
   "metadata": {},
   "outputs": [
    {
     "ename": "SyntaxError",
     "evalue": "invalid syntax (2237672880.py, line 2)",
     "output_type": "error",
     "traceback": [
      "\u001b[0;36m  Cell \u001b[0;32mIn [1], line 2\u001b[0;36m\u001b[0m\n\u001b[0;31m    def f(x):\u001b[0m\n\u001b[0m    ^\u001b[0m\n\u001b[0;31mSyntaxError\u001b[0m\u001b[0;31m:\u001b[0m invalid syntax\n"
     ]
    }
   ],
   "source": [
    "a = [\n",
    "    def f(x):\n",
    "        return a:\n",
    "    ]"
   ]
  }
 ],
 "metadata": {
  "kernelspec": {
   "display_name": "Python 3",
   "language": "python",
   "name": "python3"
  },
  "language_info": {
   "codemirror_mode": {
    "name": "ipython",
    "version": 3
   },
   "file_extension": ".py",
   "mimetype": "text/x-python",
   "name": "python",
   "nbconvert_exporter": "python",
   "pygments_lexer": "ipython3",
   "version": "3.10.12"
  }
 },
 "nbformat": 4,
 "nbformat_minor": 2
}
