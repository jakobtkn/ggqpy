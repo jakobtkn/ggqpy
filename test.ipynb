{
 "cells": [
  {
   "cell_type": "code",
   "execution_count": 1,
   "metadata": {},
   "outputs": [],
   "source": [
    "import numpy as np\n",
    "import scipy as sp\n",
    "import matplotlib.pyplot as plt\n",
    "from dataclasses import astuple\n"
   ]
  },
  {
   "cell_type": "code",
   "execution_count": 29,
   "metadata": {},
   "outputs": [
    {
     "name": "stdout",
     "output_type": "stream",
     "text": [
      "[[ 1.+0.j -0.-0.j -0.-0.j]\n",
      " [-0.+0.j  1.+0.j -0.+0.j]\n",
      " [-0.+0.j -0.-0.j  1.+0.j]]\n",
      "[0.3666312 +8.32667268e-17j 0.44324326+5.55111512e-17j\n",
      " 0.71616624-1.66533454e-16j]\n"
     ]
    }
   ],
   "source": [
    "N = 3\n",
    "a = np.random.normal(size=(3,3))\n",
    "b = np.random.normal(size=(3,3))\n",
    "A = a + 1j*b\n",
    "rhs = np.random.normal(size=3)\n",
    "\n",
    "Q,R = sp.linalg.qr(A)\n",
    "sp.linalg.norm(Q@R-A)\n",
    "\n",
    "x1 = np.linalg.solve(Q,rhs)\n",
    "\n",
    "\n",
    "\n",
    "# print(x1)\n",
    "\n",
    "# print(Q@Q.T.conj())\n",
    "U = np.diag((x1*abs(x1)**(-1)))\n",
    "Q2 = Q@U\n",
    "print(np.around(Q2@Q2.T.conj(),1))\n",
    "x2 = np.linalg.solve(Q2,rhs)\n",
    "print(x2)"
   ]
  },
  {
   "cell_type": "code",
   "execution_count": 35,
   "metadata": {},
   "outputs": [
    {
     "data": {
      "text/plain": [
       "(-0.02957846326764082+0.1894598535170757j)"
      ]
     },
     "execution_count": 35,
     "metadata": {},
     "output_type": "execute_result"
    }
   ],
   "source": [
    "sp.special.sph_harm(30,131,1,1)"
   ]
  }
 ],
 "metadata": {
  "kernelspec": {
   "display_name": "Python 3",
   "language": "python",
   "name": "python3"
  },
  "language_info": {
   "codemirror_mode": {
    "name": "ipython",
    "version": 3
   },
   "file_extension": ".py",
   "mimetype": "text/x-python",
   "name": "python",
   "nbconvert_exporter": "python",
   "pygments_lexer": "ipython3",
   "version": "3.10.12"
  }
 },
 "nbformat": 4,
 "nbformat_minor": 2
}
