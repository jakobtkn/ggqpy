{
 "cells": [
  {
   "cell_type": "code",
   "execution_count": 1,
   "metadata": {},
   "outputs": [],
   "source": [
    "import numpy as np\n",
    "import scipy as sp\n",
    "from sympy import Symbol, Poly, exp, integrate\n",
    "import sys\n",
    "import matplotlib.pyplot as plt\n",
    "import resource\n",
    "from IPython.display import display\n",
    "\n",
    "from ggqpy.functionfamiliy import Interval, FunctionFamily\n",
    "from ggqpy.testproblems import example_problem, gen_poly_and_sing\n",
    "from ggqpy.discretize import Discretizer\n",
    "from ggqpy.compress import compress_sequence_of_functions, visualise_diagonal_dropoff\n",
    "from ggqpy.optimize import QuadOptimizer\n",
    "from ggqpy import construct_Chevyshev_quadratures\n",
    "\n",
    "resource.setrlimit(resource.RLIMIT_STACK, [0x10000000, resource.RLIM_INFINITY])\n",
    "sys.setrecursionlimit(0x100000)"
   ]
  },
  {
   "cell_type": "code",
   "execution_count": 36,
   "metadata": {},
   "outputs": [
    {
     "data": {
      "text/latex": [
       "$\\displaystyle 7928.79099976228 i x^{29} - 21401.5791951224 i x^{28} - 6095.72722835169 i x^{27} + 10618.5762879944 i x^{26} + 910.201196725865 i x^{25} - 8524.05263502517 i x^{24} + 6879.32222146692 i x^{23} - 28.9133387987166 i x^{22} - 11962.0333975952 i x^{21} + 11487.0272858189 i x^{20} + 11049.7800419781 i x^{19} + 8571.2253644284 i x^{18} + 14378.6689434661 i x^{17} + 12353.7059790362 i x^{16} - 737.620540138946 i x^{15} - 3704.65967920382 i x^{14} - 7742.3026918434 i x^{13} + 7937.82901952932 i x^{12} - 486.654930128948 i x^{11} + 9657.00695921409 i x^{10} + 0.52158185546885 x^{2} + 0.171872994640461 x - 1.27175688087732 e^{0.00328273396063677 i x} + 1.42114970008009 e^{0.0114878741272881 i x} + 1.75262342534687 e^{0.0121605760651367 i x} - 1.35001541856909 e^{0.0131683127702912 i x} - 0.23144698118888 e^{0.0190341181413594 i x} - 1.34688399581053 - 0.465965580121968 e^{- 0.0618428151350046 i x} - 0.32782373077023 e^{- 0.0509183398479256 i x} - 0.238663314940559 e^{- 0.0042068746637065 i x} - 0.648052370515394 e^{- 0.000576340096499929 i x}$"
      ],
      "text/plain": [
       "7928.79099976228*I*x**29 - 21401.5791951224*I*x**28 - 6095.72722835169*I*x**27 + 10618.5762879944*I*x**26 + 910.201196725865*I*x**25 - 8524.05263502517*I*x**24 + 6879.32222146692*I*x**23 - 28.9133387987166*I*x**22 - 11962.0333975952*I*x**21 + 11487.0272858189*I*x**20 + 11049.7800419781*I*x**19 + 8571.2253644284*I*x**18 + 14378.6689434661*I*x**17 + 12353.7059790362*I*x**16 - 737.620540138946*I*x**15 - 3704.65967920382*I*x**14 - 7742.3026918434*I*x**13 + 7937.82901952932*I*x**12 - 486.654930128948*I*x**11 + 9657.00695921409*I*x**10 + 0.52158185546885*x**2 + 0.171872994640461*x - 1.27175688087732*exp(0.00328273396063677*I*x) + 1.42114970008009*exp(0.0114878741272881*I*x) + 1.75262342534687*exp(0.0121605760651367*I*x) - 1.35001541856909*exp(0.0131683127702912*I*x) - 0.23144698118888*exp(0.0190341181413594*I*x) - 1.34688399581053 - 0.465965580121968*exp(-0.0618428151350046*I*x) - 0.32782373077023*exp(-0.0509183398479256*I*x) - 0.238663314940559*exp(-0.0042068746637065*I*x) - 0.648052370515394*exp(-0.000576340096499929*I*x)"
      ]
     },
     "metadata": {},
     "output_type": "display_data"
    }
   ],
   "source": [
    "eps_disc = 1e-15\n",
    "eps_comp = 1e2*eps_disc\n",
    "I = Interval(-1,1)\n",
    "seed = 0\n",
    "\n",
    "x = Symbol(\"x\")\n",
    "\n",
    "F = FunctionFamily(I, [1 + 1e-100*x] + [x**k for k in range(1,3)] + [1e4*1j*x**k for k in range(10,30)] + [exp(1j*k*x*np.random.normal(scale=0.01)) for k in range(1,10)])\n",
    "ex_f, ex_f_expr = F.generate_example_function()\n",
    "display(ex_f_expr)"
   ]
  },
  {
   "cell_type": "code",
   "execution_count": 37,
   "metadata": {},
   "outputs": [],
   "source": [
    "number_of_points = 100\n",
    "disc = Discretizer(eps_disc, min_length=1e-4, interpolation_degree=number_of_points) \n",
    "x_disc, w_disc, endpoints, intervals = disc.adaptive_discretization(F)"
   ]
  },
  {
   "cell_type": "code",
   "execution_count": null,
   "metadata": {},
   "outputs": [],
   "source": []
  },
  {
   "cell_type": "code",
   "execution_count": 38,
   "metadata": {},
   "outputs": [],
   "source": [
    "U_disc, A, rank, u_list = compress_sequence_of_functions(F, x_disc, w_disc, eps_comp, number_of_points, intervals)"
   ]
  },
  {
   "cell_type": "code",
   "execution_count": 40,
   "metadata": {},
   "outputs": [
    {
     "name": "stdout",
     "output_type": "stream",
     "text": [
      "(-1.1599610161283636e-12-2.446540747769177e-10j)\n",
      "(-5.065108738385156+4558.835122688168j)\n",
      "[0.00412168-2.42217109e-07j 0.0040445 -2.57497170e-07j\n",
      " 0.01695279+6.83919439e-07j 0.01717322+7.27555159e-07j\n",
      " 0.02795476-1.14973844e-06j 0.02831135-1.07918951e-06j\n",
      " 0.0405076 +1.58291751e-06j 0.03999841+1.48226785e-06j\n",
      " 0.05064987-1.91745732e-06j 0.04995452-2.05471691e-06j\n",
      " 0.06249885+2.57851045e-06j 0.06156609+2.39476247e-06j\n",
      " 0.06834304-3.13125925e-06j 0.06957647-2.88902305e-06j\n",
      " 0.08563152+3.52363820e-06j 0.0840856 +3.22145705e-06j\n",
      " 0.10559331-3.97021781e-06j 0.10332335-4.40985192e-06j\n",
      " 0.10698901+7.05201650e-06j 0.1024694 +6.19290625e-06j\n",
      " 0.13447043-1.07751625e-05j 0.12287749-1.28710619e-05j\n",
      " 0.18569181+1.83806777e-05j 0.19395251+1.65151412e-05j\n",
      " 0.23326241-1.95883768e-05j]\n"
     ]
    }
   ],
   "source": [
    "x_cheb,w_cheb,idx_cheb = construct_Chevyshev_quadratures(x_disc,w_disc,U_disc)\n",
    "print(ex_f(x_cheb)@w_cheb - complex(F.target_integral(ex_f_expr)))\n",
    "print(complex(F.target_integral(ex_f_expr)))\n",
    "print(w_cheb)"
   ]
  },
  {
   "cell_type": "code",
   "execution_count": null,
   "metadata": {},
   "outputs": [],
   "source": []
  },
  {
   "cell_type": "code",
   "execution_count": 6,
   "metadata": {},
   "outputs": [
    {
     "ename": "ValueError",
     "evalue": "`x0` must be real.",
     "output_type": "error",
     "traceback": [
      "\u001b[0;31m---------------------------------------------------------------------------\u001b[0m",
      "\u001b[0;31mValueError\u001b[0m                                Traceback (most recent call last)",
      "Cell \u001b[0;32mIn [6], line 5\u001b[0m\n\u001b[1;32m      3\u001b[0m opt \u001b[38;5;241m=\u001b[39m QuadOptimizer(u_list,r)\n\u001b[1;32m      4\u001b[0m opt\u001b[38;5;241m.\u001b[39mset_parameters(\u001b[38;5;241m0.3\u001b[39m,\u001b[38;5;241m1000\u001b[39m,\u001b[38;5;241m10e-6\u001b[39m)\n\u001b[0;32m----> 5\u001b[0m x,w \u001b[38;5;241m=\u001b[39m \u001b[43mopt\u001b[49m\u001b[38;5;241;43m.\u001b[39;49m\u001b[43mpoint_reduction\u001b[49m\u001b[43m(\u001b[49m\u001b[43mx_cheb\u001b[49m\u001b[43m,\u001b[49m\u001b[43mw_cheb\u001b[49m\u001b[43m,\u001b[49m\u001b[43meps_quad\u001b[49m\u001b[43m)\u001b[49m\n",
      "File \u001b[0;32m~/Documents/OneDriveDTU/10-semester/speciale/code/ggqpy/optimize.py:114\u001b[0m, in \u001b[0;36mQuadOptimizer.point_reduction\u001b[0;34m(self, x0, w0, eps_quad)\u001b[0m\n\u001b[1;32m    112\u001b[0m improvement_found \u001b[38;5;241m=\u001b[39m \u001b[38;5;28;01mTrue\u001b[39;00m\n\u001b[1;32m    113\u001b[0m \u001b[38;5;28;01mwhile\u001b[39;00m improvement_found:\n\u001b[0;32m--> 114\u001b[0m     x, w, improvement_found \u001b[38;5;241m=\u001b[39m \u001b[38;5;28;43mself\u001b[39;49m\u001b[38;5;241;43m.\u001b[39;49m\u001b[43mattempt_to_remove_node\u001b[49m\u001b[43m(\u001b[49m\u001b[43mx\u001b[49m\u001b[43m,\u001b[49m\u001b[43m \u001b[49m\u001b[43mw\u001b[49m\u001b[43m,\u001b[49m\u001b[43m \u001b[49m\u001b[43meps_quad\u001b[49m\u001b[43m)\u001b[49m\n\u001b[1;32m    115\u001b[0m     \u001b[38;5;28;01mif\u001b[39;00m \u001b[38;5;28mlen\u001b[39m(x) \u001b[38;5;241m<\u001b[39m\u001b[38;5;241m=\u001b[39m \u001b[38;5;28mself\u001b[39m\u001b[38;5;241m.\u001b[39mrank \u001b[38;5;241m/\u001b[39m\u001b[38;5;241m/\u001b[39m \u001b[38;5;241m2\u001b[39m:\n\u001b[1;32m    116\u001b[0m         \u001b[38;5;28;01mbreak\u001b[39;00m\n",
      "File \u001b[0;32m~/Documents/OneDriveDTU/10-semester/speciale/code/ggqpy/optimize.py:94\u001b[0m, in \u001b[0;36mQuadOptimizer.attempt_to_remove_node\u001b[0;34m(self, x, w, eps_quad)\u001b[0m\n\u001b[1;32m     91\u001b[0m y0 \u001b[38;5;241m=\u001b[39m np\u001b[38;5;241m.\u001b[39mconcatenate([x[mask], w[mask]])\n\u001b[1;32m     93\u001b[0m \u001b[38;5;66;03m# y = dampened_gauss_newton(self.residual, self.jacobian, y0, *self.args)\u001b[39;00m\n\u001b[0;32m---> 94\u001b[0m res \u001b[38;5;241m=\u001b[39m \u001b[43msp\u001b[49m\u001b[38;5;241;43m.\u001b[39;49m\u001b[43moptimize\u001b[49m\u001b[38;5;241;43m.\u001b[39;49m\u001b[43mleast_squares\u001b[49m\u001b[43m(\u001b[49m\u001b[38;5;28;43mself\u001b[39;49m\u001b[38;5;241;43m.\u001b[39;49m\u001b[43mresidual\u001b[49m\u001b[43m,\u001b[49m\u001b[43m \u001b[49m\u001b[43my0\u001b[49m\u001b[43m,\u001b[49m\u001b[43m \u001b[49m\u001b[43mjac\u001b[49m\u001b[43m \u001b[49m\u001b[38;5;241;43m=\u001b[39;49m\u001b[43m \u001b[49m\u001b[38;5;28;43mself\u001b[39;49m\u001b[38;5;241;43m.\u001b[39;49m\u001b[43mjacobian\u001b[49m\u001b[43m,\u001b[49m\u001b[43m \u001b[49m\u001b[43mmethod\u001b[49m\u001b[38;5;241;43m=\u001b[39;49m\u001b[38;5;124;43m\"\u001b[39;49m\u001b[38;5;124;43mdogbox\u001b[39;49m\u001b[38;5;124;43m\"\u001b[39;49m\u001b[43m,\u001b[49m\u001b[43m \u001b[49m\u001b[43mx_scale\u001b[49m\u001b[43m \u001b[49m\u001b[38;5;241;43m=\u001b[39;49m\u001b[43m \u001b[49m\u001b[38;5;241;43m1\u001b[39;49m\u001b[43m)\u001b[49m\n\u001b[1;32m     95\u001b[0m y \u001b[38;5;241m=\u001b[39m res\u001b[38;5;241m.\u001b[39mx\n\u001b[1;32m     97\u001b[0m eps \u001b[38;5;241m=\u001b[39m np\u001b[38;5;241m.\u001b[39mlinalg\u001b[38;5;241m.\u001b[39mnorm(\u001b[38;5;28mself\u001b[39m\u001b[38;5;241m.\u001b[39mresidual(y)) \u001b[38;5;241m*\u001b[39m\u001b[38;5;241m*\u001b[39m \u001b[38;5;241m2\u001b[39m\n",
      "File \u001b[0;32m~/.local/lib/python3.10/site-packages/scipy/optimize/_lsq/least_squares.py:791\u001b[0m, in \u001b[0;36mleast_squares\u001b[0;34m(fun, x0, jac, bounds, method, ftol, xtol, gtol, x_scale, loss, f_scale, diff_step, tr_solver, tr_options, jac_sparsity, max_nfev, verbose, args, kwargs)\u001b[0m\n\u001b[1;32m    788\u001b[0m     \u001b[38;5;28;01mraise\u001b[39;00m \u001b[38;5;167;01mValueError\u001b[39;00m(\u001b[38;5;124m\"\u001b[39m\u001b[38;5;124m`max_nfev` must be None or positive integer.\u001b[39m\u001b[38;5;124m\"\u001b[39m)\n\u001b[1;32m    790\u001b[0m \u001b[38;5;28;01mif\u001b[39;00m np\u001b[38;5;241m.\u001b[39miscomplexobj(x0):\n\u001b[0;32m--> 791\u001b[0m     \u001b[38;5;28;01mraise\u001b[39;00m \u001b[38;5;167;01mValueError\u001b[39;00m(\u001b[38;5;124m\"\u001b[39m\u001b[38;5;124m`x0` must be real.\u001b[39m\u001b[38;5;124m\"\u001b[39m)\n\u001b[1;32m    793\u001b[0m x0 \u001b[38;5;241m=\u001b[39m np\u001b[38;5;241m.\u001b[39matleast_1d(x0)\u001b[38;5;241m.\u001b[39mastype(\u001b[38;5;28mfloat\u001b[39m)\n\u001b[1;32m    795\u001b[0m \u001b[38;5;28;01mif\u001b[39;00m x0\u001b[38;5;241m.\u001b[39mndim \u001b[38;5;241m>\u001b[39m \u001b[38;5;241m1\u001b[39m:\n",
      "\u001b[0;31mValueError\u001b[0m: `x0` must be real."
     ]
    }
   ],
   "source": [
    "r = U_disc.T@w_disc\n",
    "eps_quad = 0.9\n",
    "opt = QuadOptimizer(u_list,r)\n",
    "opt.set_parameters(0.3,1000,10e-6)\n",
    "x,w = opt.point_reduction(x_cheb,w_cheb,eps_quad)\n"
   ]
  },
  {
   "cell_type": "code",
   "execution_count": null,
   "metadata": {},
   "outputs": [
    {
     "name": "stdout",
     "output_type": "stream",
     "text": [
      "[0.34226685 0.21488058]\n"
     ]
    },
    {
     "data": {
      "image/png": "[encoded data removed]",
      "text/plain": [
       "<Figure size 640x480 with 1 Axes>"
      ]
     },
     "metadata": {},
     "output_type": "display_data"
    }
   ],
   "source": [
    "x_gl,w_gl = np.polynomial.legendre.leggauss(len(x))\n",
    "plt.stem(x_gl,w_gl,markerfmt=\"r\")\n",
    "plt.stem(x,w)\n",
    "print(x_gl-sorted(x))"
   ]
  }
 ],
 "metadata": {
  "kernelspec": {
   "display_name": "Python 3",
   "language": "python",
   "name": "python3"
  },
  "language_info": {
   "codemirror_mode": {
    "name": "ipython",
    "version": 3
   },
   "file_extension": ".py",
   "mimetype": "text/x-python",
   "name": "python",
   "nbconvert_exporter": "python",
   "pygments_lexer": "ipython3",
   "version": "3.10.12"
  }
 },
 "nbformat": 4,
 "nbformat_minor": 2
}
